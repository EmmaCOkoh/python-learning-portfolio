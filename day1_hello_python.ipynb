{
 "cells": [
  {
   "cell_type": "code",
   "execution_count": 14,
   "id": "724f891d-87d0-416c-95b6-8c03f2059d50",
   "metadata": {},
   "outputs": [
    {
     "name": "stdout",
     "output_type": "stream",
     "text": [
      "Hello, world!\n"
     ]
    }
   ],
   "source": [
    "print(\"Hello, world!\")"
   ]
  },
  {
   "cell_type": "code",
   "execution_count": 15,
   "id": "5b374f03-af05-4734-9dfe-308186a25be3",
   "metadata": {},
   "outputs": [
    {
     "name": "stdout",
     "output_type": "stream",
     "text": [
      "My name is Emmanuel.\n",
      "I'm learning Python.\n",
      "This is exciting!\n"
     ]
    }
   ],
   "source": [
    "print(\"My name is Emmanuel.\")\n",
    "print(\"I'm learning Python.\")\n",
    "print(\"This is exciting!\")"
   ]
  },
  {
   "cell_type": "code",
   "execution_count": 1,
   "id": "2d5aeaf1-185b-4118-8f29-2cbe6dd5921a",
   "metadata": {},
   "outputs": [
    {
     "name": "stdout",
     "output_type": "stream",
     "text": [
      "Hello, Emmanuel!\n"
     ]
    }
   ],
   "source": [
    "print(\"Hello, Emmanuel!\")"
   ]
  },
  {
   "cell_type": "code",
   "execution_count": 3,
   "id": "bded4d8d-9dfa-4cf8-ac06-12b1ad0f7f80",
   "metadata": {},
   "outputs": [
    {
     "name": "stdout",
     "output_type": "stream",
     "text": [
      "My name is Emmanuel.\n"
     ]
    }
   ],
   "source": [
    "print(\"My name is Emmanuel.\")"
   ]
  },
  {
   "cell_type": "code",
   "execution_count": 17,
   "id": "ded7029e-57ef-4f82-940b-998ffedc6f26",
   "metadata": {},
   "outputs": [
    {
     "name": "stdout",
     "output_type": "stream",
     "text": [
      "5\n",
      "7\n",
      "8\n",
      "12\n",
      "4.0\n"
     ]
    }
   ],
   "source": [
    "print(5)\n",
    "print(3+4)\n",
    "print(10-2)\n",
    "print(6*2)\n",
    "print(8/2)"
   ]
  },
  {
   "cell_type": "code",
   "execution_count": 4,
   "id": "109f77fe-75aa-4ec4-b26d-26e71bff2abe",
   "metadata": {},
   "outputs": [
    {
     "name": "stdout",
     "output_type": "stream",
     "text": [
      "I love learning python!\n"
     ]
    }
   ],
   "source": [
    "print(\"I love learning python!\")"
   ]
  },
  {
   "cell_type": "code",
   "execution_count": 5,
   "id": "e3ca9764-d086-46b9-aa50-f7e75ad9e8b8",
   "metadata": {},
   "outputs": [
    {
     "name": "stdout",
     "output_type": "stream",
     "text": [
      "10\n"
     ]
    }
   ],
   "source": [
    "print(5+5)"
   ]
  },
  {
   "cell_type": "code",
   "execution_count": 6,
   "id": "11f9aced-d87d-4707-bc0a-48a0ba7cff3f",
   "metadata": {},
   "outputs": [
    {
     "name": "stdout",
     "output_type": "stream",
     "text": [
      "5+5\n"
     ]
    }
   ],
   "source": [
    "print(\"5+5\")"
   ]
  },
  {
   "cell_type": "code",
   "execution_count": 8,
   "id": "537658db-f122-4edb-afdc-ceca9462d16b",
   "metadata": {},
   "outputs": [
    {
     "name": "stdout",
     "output_type": "stream",
     "text": [
      "My favourite food is yam and sauce.\n"
     ]
    }
   ],
   "source": [
    "print(\"My favourite food is yam and sauce.\")"
   ]
  },
  {
   "cell_type": "code",
   "execution_count": 9,
   "id": "4e071461-d9c5-45ed-b9df-e101becdaa0f",
   "metadata": {},
   "outputs": [
    {
     "name": "stdout",
     "output_type": "stream",
     "text": [
      "48\n"
     ]
    }
   ],
   "source": [
    "print(12*4)"
   ]
  },
  {
   "cell_type": "code",
   "execution_count": 12,
   "id": "c3e52de2-32d7-4b82-ad3f-be54da911227",
   "metadata": {},
   "outputs": [
    {
     "name": "stdout",
     "output_type": "stream",
     "text": [
      "I'm learing Python using Jupyterlab.\n"
     ]
    }
   ],
   "source": [
    "print(\"I'm learing Python using Jupyterlab.\")"
   ]
  },
  {
   "cell_type": "markdown",
   "id": "a5a09f10-8a6f-48a1-95f9-f4ef9930ac30",
   "metadata": {},
   "source": [
    "### Practice 1: Print my bio"
   ]
  },
  {
   "cell_type": "code",
   "execution_count": 18,
   "id": "40d47bcc-53e2-48f5-9085-d5f70d671d31",
   "metadata": {},
   "outputs": [
    {
     "name": "stdout",
     "output_type": "stream",
     "text": [
      "My name is Emmanuel Okoh\n",
      "I'm 29 years old\n",
      "I live in Canada\n",
      "I love taking pictures\n"
     ]
    }
   ],
   "source": [
    "print(\"My name is Emmanuel Okoh\")\n",
    "print(\"I'm 29 years old\")\n",
    "print(\"I live in Canada\")\n",
    "print(\"I love taking pictures\")"
   ]
  },
  {
   "cell_type": "markdown",
   "id": "98539263-a910-49bf-b76d-b593b89f9d59",
   "metadata": {},
   "source": [
    "### Practice 2: Write a fun story"
   ]
  },
  {
   "cell_type": "code",
   "execution_count": 20,
   "id": "d93e4883-4270-43af-a01f-64130580137b",
   "metadata": {},
   "outputs": [
    {
     "name": "stdout",
     "output_type": "stream",
     "text": [
      "Once upon a time, Emmanuel decided to ask ChatGPT how to learning coding.\n",
      "Chat suggested different ways and asked me to download jupyterlab.\n",
      "My journey has been extremely blessed so far and I thank God for that!\n"
     ]
    }
   ],
   "source": [
    "print(\"Once upon a time, Emmanuel decided to ask ChatGPT how to learning coding.\")\n",
    "print(\"Chat suggested different ways and asked me to download jupyterlab.\")\n",
    "print(\"My journey has been extremely blessed so far and I thank God for that!\")"
   ]
  },
  {
   "cell_type": "code",
   "execution_count": 21,
   "id": "ac2d8daf-7efa-4941-8b76-fc3919e1bc67",
   "metadata": {},
   "outputs": [
    {
     "name": "stdout",
     "output_type": "stream",
     "text": [
      "10\n",
      "10\n",
      "12\n",
      "3.0\n"
     ]
    }
   ],
   "source": [
    "print(7+3)\n",
    "print(15-5)\n",
    "print(4*3)\n",
    "print(9/3)"
   ]
  },
  {
   "cell_type": "code",
   "execution_count": 22,
   "id": "a4b00864-1372-43a8-b686-5c942cb76ea8",
   "metadata": {},
   "outputs": [
    {
     "name": "stdout",
     "output_type": "stream",
     "text": [
      "what is 10+2?\n",
      "Answer: 12\n"
     ]
    }
   ],
   "source": [
    "print(\"what is 10+2?\")\n",
    "print(\"Answer:\", 10+2)"
   ]
  },
  {
   "cell_type": "markdown",
   "id": "fc414682-7ace-4d77-a5a6-91a1c3655391",
   "metadata": {},
   "source": [
    "### Mini Day1 Project"
   ]
  },
  {
   "cell_type": "code",
   "execution_count": 23,
   "id": "cabb72e1-25a9-4721-9c6d-eec4d60ea02e",
   "metadata": {},
   "outputs": [
    {
     "name": "stdout",
     "output_type": "stream",
     "text": [
      "My name is Emmanuel Chuks Okoh\n",
      "I am 29 yeards old\n",
      "I enjoy playing soccer on the weekends\n",
      "My favourite food is yam and sauce\n",
      "I want to expand on my creativity on many levels\n"
     ]
    }
   ],
   "source": [
    "print(\"My name is Emmanuel Chuks Okoh\")\n",
    "print(\"I am 29 yeards old\")\n",
    "print(\"I enjoy playing soccer on the weekends\")\n",
    "print(\"My favourite food is yam and sauce\")\n",
    "print(\"I want to expand on my creativity on many levels\")"
   ]
  },
  {
   "cell_type": "code",
   "execution_count": null,
   "id": "809847f3-1ae4-45fb-bd57-671f64882709",
   "metadata": {},
   "outputs": [],
   "source": []
  }
 ],
 "metadata": {
  "kernelspec": {
   "display_name": "Python 3 (ipykernel)",
   "language": "python",
   "name": "python3"
  },
  "language_info": {
   "codemirror_mode": {
    "name": "ipython",
    "version": 3
   },
   "file_extension": ".py",
   "mimetype": "text/x-python",
   "name": "python",
   "nbconvert_exporter": "python",
   "pygments_lexer": "ipython3",
   "version": "3.12.3"
  }
 },
 "nbformat": 4,
 "nbformat_minor": 5
}
